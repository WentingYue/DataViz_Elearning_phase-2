{
 "cells": [
  {
   "cell_type": "code",
   "execution_count": 6,
   "metadata": {},
   "outputs": [],
   "source": [
    "import numpy as np\n",
    "import pandas as pd\n",
    "import csv\n",
    "from collections import defaultdict\n",
    "import networkx as nx\n",
    "import json"
   ]
  },
  {
   "cell_type": "markdown",
   "metadata": {},
   "source": [
    "### Load data"
   ]
  },
  {
   "cell_type": "code",
   "execution_count": 7,
   "metadata": {},
   "outputs": [],
   "source": [
    "df_C_raw = pd.read_excel(\"hierarchy_org_position_id.xlsx\", sheet_name=\"CDIO_COO_DIV PRIVATE BANKING\")\n",
    "df_P_raw = pd.read_excel(\"hierarchy_org_position_id.xlsx\", sheet_name=\"Private Banking\")\n",
    "df_OP = pd.read_excel(\"hierarchy_org_position_id.xlsx\", sheet_name=\"Organizational Position\")\n",
    "\n",
    "df_Employees = pd.read_excel(\"Data.xlsx\", sheet_name=\"Employees\")\n",
    "df_Domain = pd.read_excel(\"Data.xlsx\", sheet_name=\"Knowledge structure\")\n",
    "df_Assessment = pd.read_excel(\"Data.xlsx\", sheet_name=\"Knowledge assessment\", na_values = \"NA\")\n",
    "df_Organization = pd.read_excel(\"Data.xlsx\", sheet_name=\"Organizational structure\", na_values=\"NA\")\n",
    "df_Persona = pd.read_excel(\"Data.xlsx\", sheet_name=\"Personas\")"
   ]
  },
  {
   "cell_type": "markdown",
   "metadata": {},
   "source": [
    "## EDA"
   ]
  },
  {
   "cell_type": "markdown",
   "metadata": {},
   "source": [
    "### Employee Data"
   ]
  },
  {
   "cell_type": "code",
   "execution_count": null,
   "metadata": {},
   "outputs": [
    {
     "data": {
      "text/html": [
       "<div>\n",
       "<style scoped>\n",
       "    .dataframe tbody tr th:only-of-type {\n",
       "        vertical-align: middle;\n",
       "    }\n",
       "\n",
       "    .dataframe tbody tr th {\n",
       "        vertical-align: top;\n",
       "    }\n",
       "\n",
       "    .dataframe thead th {\n",
       "        text-align: right;\n",
       "    }\n",
       "</style>\n",
       "<table border=\"1\" class=\"dataframe\">\n",
       "  <thead>\n",
       "    <tr style=\"text-align: right;\">\n",
       "      <th></th>\n",
       "      <th>ID_EMPLOYEE</th>\n",
       "      <th>SEX</th>\n",
       "      <th>AGE</th>\n",
       "      <th>ID_FRAME</th>\n",
       "      <th>FLAG_RESPONSABILE</th>\n",
       "      <th>ID_ORGANIZATIONAL_POSITION</th>\n",
       "    </tr>\n",
       "  </thead>\n",
       "  <tbody>\n",
       "    <tr>\n",
       "      <th>0</th>\n",
       "      <td>2</td>\n",
       "      <td>M</td>\n",
       "      <td>60</td>\n",
       "      <td>3A/4</td>\n",
       "      <td>#</td>\n",
       "      <td>10134</td>\n",
       "    </tr>\n",
       "    <tr>\n",
       "      <th>1</th>\n",
       "      <td>3</td>\n",
       "      <td>F</td>\n",
       "      <td>49</td>\n",
       "      <td>QD/1</td>\n",
       "      <td>#</td>\n",
       "      <td>10130</td>\n",
       "    </tr>\n",
       "    <tr>\n",
       "      <th>2</th>\n",
       "      <td>4</td>\n",
       "      <td>F</td>\n",
       "      <td>60</td>\n",
       "      <td>QD/4</td>\n",
       "      <td>#</td>\n",
       "      <td>10201</td>\n",
       "    </tr>\n",
       "    <tr>\n",
       "      <th>3</th>\n",
       "      <td>5</td>\n",
       "      <td>M</td>\n",
       "      <td>53</td>\n",
       "      <td>DR/0</td>\n",
       "      <td>#</td>\n",
       "      <td>1648</td>\n",
       "    </tr>\n",
       "    <tr>\n",
       "      <th>4</th>\n",
       "      <td>6</td>\n",
       "      <td>F</td>\n",
       "      <td>52</td>\n",
       "      <td>QD/4</td>\n",
       "      <td>X</td>\n",
       "      <td>55</td>\n",
       "    </tr>\n",
       "  </tbody>\n",
       "</table>\n",
       "</div>"
      ],
      "text/plain": [
       "   ID_EMPLOYEE SEX  AGE ID_FRAME FLAG_RESPONSABILE  ID_ORGANIZATIONAL_POSITION\n",
       "0            2   M   60     3A/4                 #                       10134\n",
       "1            3   F   49     QD/1                 #                       10130\n",
       "2            4   F   60     QD/4                 #                       10201\n",
       "3            5   M   53     DR/0                 #                        1648\n",
       "4            6   F   52     QD/4                 X                          55"
      ]
     },
     "execution_count": 18,
     "metadata": {},
     "output_type": "execute_result"
    }
   ],
   "source": [
    "df_Employees.head()"
   ]
  },
  {
   "cell_type": "markdown",
   "metadata": {},
   "source": [
    "#### Number of employees"
   ]
  },
  {
   "cell_type": "code",
   "execution_count": null,
   "metadata": {},
   "outputs": [
    {
     "data": {
      "text/plain": [
       "64998"
      ]
     },
     "execution_count": 20,
     "metadata": {},
     "output_type": "execute_result"
    }
   ],
   "source": [
    "len(df_Employees.ID_EMPLOYEE.unique())"
   ]
  },
  {
   "cell_type": "markdown",
   "metadata": {},
   "source": [
    "#### Proportion of males to females"
   ]
  },
  {
   "cell_type": "code",
   "execution_count": null,
   "metadata": {},
   "outputs": [
    {
     "data": {
      "text/plain": [
       "F    0.510238\n",
       "M    0.489762\n",
       "Name: SEX, dtype: float64"
      ]
     },
     "execution_count": 28,
     "metadata": {},
     "output_type": "execute_result"
    }
   ],
   "source": [
    "df_Employees['SEX'].value_counts(normalize = True)"
   ]
  },
  {
   "cell_type": "markdown",
   "metadata": {},
   "source": [
    "#### Distribution of age"
   ]
  },
  {
   "cell_type": "code",
   "execution_count": null,
   "metadata": {},
   "outputs": [
    {
     "data": {
      "text/plain": [
       "54    0.045924\n",
       "49    0.045785\n",
       "57    0.044478\n",
       "55    0.043032\n",
       "52    0.041986\n",
       "58    0.041940\n",
       "53    0.041802\n",
       "56    0.040525\n",
       "59    0.040218\n",
       "51    0.039726\n",
       "50    0.039433\n",
       "60    0.038926\n",
       "48    0.036050\n",
       "47    0.031621\n",
       "46    0.030729\n",
       "61    0.029129\n",
       "45    0.028268\n",
       "40    0.028099\n",
       "41    0.027960\n",
       "39    0.027483\n",
       "44    0.026653\n",
       "42    0.024900\n",
       "43    0.024331\n",
       "38    0.023592\n",
       "62    0.020163\n",
       "37    0.019501\n",
       "36    0.017317\n",
       "63    0.015780\n",
       "35    0.013288\n",
       "64    0.010996\n",
       "34    0.009966\n",
       "33    0.007736\n",
       "32    0.007705\n",
       "65    0.006967\n",
       "31    0.005952\n",
       "30    0.005075\n",
       "29    0.004076\n",
       "28    0.003091\n",
       "66    0.002799\n",
       "67    0.002245\n",
       "27    0.002030\n",
       "26    0.001046\n",
       "25    0.000615\n",
       "24    0.000400\n",
       "68    0.000323\n",
       "23    0.000261\n",
       "22    0.000046\n",
       "71    0.000015\n",
       "21    0.000015\n",
       "Name: AGE, dtype: float64"
      ]
     },
     "execution_count": 27,
     "metadata": {},
     "output_type": "execute_result"
    }
   ],
   "source": [
    "df_Employees['AGE'].value_counts(normalize = True)"
   ]
  },
  {
   "cell_type": "markdown",
   "metadata": {},
   "source": [
    "#### Potential data quality issue\n",
    "\n",
    "ID_EMPLOYEE is not unique on ID_ORGANIZATIONAL_POSITION\n"
   ]
  },
  {
   "cell_type": "code",
   "execution_count": null,
   "metadata": {},
   "outputs": [],
   "source": [
    "len(df_Employees.index) == len(df_Employees.ID_EMPLOYEE.unique())\n",
    "\n",
    "counts = df_Employees['ID_EMPLOYEE'].value_counts()\n",
    "org_issue = df_Employees[df_Employees['ID_EMPLOYEE'].isin(counts.index[counts > 1])]\n",
    "\n",
    "id_not_unk = org_issue.ID_EMPLOYEE.unique()\n",
    "org_pos = org_issue.ID_ORGANIZATIONAL_POSITION.unique()"
   ]
  },
  {
   "cell_type": "markdown",
   "metadata": {},
   "source": [
    "Only a handful of organizational positions are affected"
   ]
  },
  {
   "cell_type": "code",
   "execution_count": null,
   "metadata": {},
   "outputs": [
    {
     "name": "stdout",
     "output_type": "stream",
     "text": [
      "[4593 5051 4596 5107 4607 6145]\n"
     ]
    }
   ],
   "source": [
    "print(org_pos)"
   ]
  },
  {
   "cell_type": "markdown",
   "metadata": {},
   "source": [
    "These organizational positions are linked to one Persona, but different provinces and regions, which means that a handful of employees are linked to multiple regions and provinces"
   ]
  },
  {
   "cell_type": "markdown",
   "metadata": {},
   "source": [
    "### Organizational Data"
   ]
  },
  {
   "cell_type": "code",
   "execution_count": null,
   "metadata": {},
   "outputs": [
    {
     "data": {
      "text/html": [
       "<div>\n",
       "<style scoped>\n",
       "    .dataframe tbody tr th:only-of-type {\n",
       "        vertical-align: middle;\n",
       "    }\n",
       "\n",
       "    .dataframe tbody tr th {\n",
       "        vertical-align: top;\n",
       "    }\n",
       "\n",
       "    .dataframe thead th {\n",
       "        text-align: right;\n",
       "    }\n",
       "</style>\n",
       "<table border=\"1\" class=\"dataframe\">\n",
       "  <thead>\n",
       "    <tr style=\"text-align: right;\">\n",
       "      <th></th>\n",
       "      <th>ID_ORGANIZATIONAL_POSITION</th>\n",
       "      <th>PROVINE</th>\n",
       "      <th>REGION</th>\n",
       "      <th>ID_PERSONAS</th>\n",
       "    </tr>\n",
       "  </thead>\n",
       "  <tbody>\n",
       "    <tr>\n",
       "      <th>0</th>\n",
       "      <td>1</td>\n",
       "      <td>Imperia</td>\n",
       "      <td>Liguria</td>\n",
       "      <td>P00029</td>\n",
       "    </tr>\n",
       "    <tr>\n",
       "      <th>1</th>\n",
       "      <td>2</td>\n",
       "      <td>Novara</td>\n",
       "      <td>Piemonte</td>\n",
       "      <td>P00029</td>\n",
       "    </tr>\n",
       "    <tr>\n",
       "      <th>2</th>\n",
       "      <td>3</td>\n",
       "      <td>Biella</td>\n",
       "      <td>Piemonte</td>\n",
       "      <td>P00029</td>\n",
       "    </tr>\n",
       "    <tr>\n",
       "      <th>3</th>\n",
       "      <td>4</td>\n",
       "      <td>Milano</td>\n",
       "      <td>Lombardia</td>\n",
       "      <td>P00029</td>\n",
       "    </tr>\n",
       "    <tr>\n",
       "      <th>4</th>\n",
       "      <td>5</td>\n",
       "      <td>Milano</td>\n",
       "      <td>Lombardia</td>\n",
       "      <td>P00029</td>\n",
       "    </tr>\n",
       "  </tbody>\n",
       "</table>\n",
       "</div>"
      ],
      "text/plain": [
       "   ID_ORGANIZATIONAL_POSITION  PROVINE     REGION ID_PERSONAS\n",
       "0                           1  Imperia    Liguria      P00029\n",
       "1                           2   Novara   Piemonte      P00029\n",
       "2                           3   Biella   Piemonte      P00029\n",
       "3                           4   Milano  Lombardia      P00029\n",
       "4                           5   Milano  Lombardia      P00029"
      ]
     },
     "execution_count": 50,
     "metadata": {},
     "output_type": "execute_result"
    }
   ],
   "source": [
    "\n",
    "df_Organization.head()"
   ]
  },
  {
   "cell_type": "markdown",
   "metadata": {},
   "source": [
    "#### Personas\n",
    "There are 36 unique personas (One is NA). Personas are not represented in every region and therefore also not represented in every province."
   ]
  },
  {
   "cell_type": "code",
   "execution_count": null,
   "metadata": {},
   "outputs": [
    {
     "data": {
      "text/plain": [
       "array(['P00029', 'P00030', 'P00007', 'P00035', 'P00032', 'P00023',\n",
       "       'P00008', 'P00014', 'P00036', 'P00009', 'P00001', 'P00027',\n",
       "       'P00012', 'P00018', 'P00026', nan, 'P00024', 'P00010', 'P00004',\n",
       "       'P00028', 'P00011', 'P00034', 'P00019', 'P00003', 'P00021',\n",
       "       'P00002', 'P00025', 'P00022', 'P00033', 'P00006', 'P00020',\n",
       "       'P00015', 'P00031', 'P00005', 'P00017', 'P00013', 'P00016'],\n",
       "      dtype=object)"
      ]
     },
     "execution_count": 55,
     "metadata": {},
     "output_type": "execute_result"
    }
   ],
   "source": [
    "df_Organization.ID_PERSONAS.unique()"
   ]
  },
  {
   "cell_type": "code",
   "execution_count": null,
   "metadata": {},
   "outputs": [
    {
     "data": {
      "text/plain": [
       "37"
      ]
     },
     "execution_count": 51,
     "metadata": {},
     "output_type": "execute_result"
    }
   ],
   "source": [
    "len(df_Organization.ID_PERSONAS.unique())"
   ]
  },
  {
   "cell_type": "markdown",
   "metadata": {},
   "source": [
    "#### Regions and provinces\n",
    "Provinces are nested inside of regions. There are 21 regions and 108 provinces represented in the data.\n",
    "The following dataset"
   ]
  },
  {
   "cell_type": "code",
   "execution_count": null,
   "metadata": {},
   "outputs": [
    {
     "name": "stdout",
     "output_type": "stream",
     "text": [
      "          REGION   PROVINE\n",
      "4119     Abruzzo  L'Aquila\n",
      "4073     Abruzzo    Chieti\n",
      "4035     Abruzzo    Teramo\n",
      "102      Abruzzo   Pescara\n",
      "5934  Basilicata   Potenza\n",
      "...          ...       ...\n",
      "18        Veneto   Venezia\n",
      "17        Veneto   Treviso\n",
      "113       Veneto    Padova\n",
      "187       Veneto   Belluno\n",
      "96        Veneto    Rovigo\n",
      "\n",
      "[108 rows x 2 columns]\n"
     ]
    }
   ],
   "source": [
    "region = df_Organization[[\"REGION\", \"PROVINE\"]]\n",
    "region = region.drop_duplicates()\n",
    "region.sort_values(by=['REGION'], inplace = True)\n",
    "print(region)"
   ]
  },
  {
   "cell_type": "markdown",
   "metadata": {},
   "source": [
    "#### Data quality issue from employees data\n",
    "The following filtered table shows records that would be affected by the data quality issue in the employees data if the two tables were to be joined. The only persona affected by this issue is P00032 (Credit & Business Finance)."
   ]
  },
  {
   "cell_type": "code",
   "execution_count": null,
   "metadata": {},
   "outputs": [
    {
     "data": {
      "text/html": [
       "<div>\n",
       "<style scoped>\n",
       "    .dataframe tbody tr th:only-of-type {\n",
       "        vertical-align: middle;\n",
       "    }\n",
       "\n",
       "    .dataframe tbody tr th {\n",
       "        vertical-align: top;\n",
       "    }\n",
       "\n",
       "    .dataframe thead th {\n",
       "        text-align: right;\n",
       "    }\n",
       "</style>\n",
       "<table border=\"1\" class=\"dataframe\">\n",
       "  <thead>\n",
       "    <tr style=\"text-align: right;\">\n",
       "      <th></th>\n",
       "      <th>ID_ORGANIZATIONAL_POSITION</th>\n",
       "      <th>PROVINE</th>\n",
       "      <th>REGION</th>\n",
       "      <th>ID_PERSONAS</th>\n",
       "    </tr>\n",
       "  </thead>\n",
       "  <tbody>\n",
       "    <tr>\n",
       "      <th>4592</th>\n",
       "      <td>4593</td>\n",
       "      <td>Pistoia</td>\n",
       "      <td>Toscana</td>\n",
       "      <td>P00032</td>\n",
       "    </tr>\n",
       "    <tr>\n",
       "      <th>4595</th>\n",
       "      <td>4596</td>\n",
       "      <td>Viterbo</td>\n",
       "      <td>Lazio</td>\n",
       "      <td>P00032</td>\n",
       "    </tr>\n",
       "    <tr>\n",
       "      <th>4606</th>\n",
       "      <td>4607</td>\n",
       "      <td>Catanzaro</td>\n",
       "      <td>Calabria</td>\n",
       "      <td>P00032</td>\n",
       "    </tr>\n",
       "    <tr>\n",
       "      <th>5050</th>\n",
       "      <td>5051</td>\n",
       "      <td>Perugia</td>\n",
       "      <td>Umbria</td>\n",
       "      <td>P00032</td>\n",
       "    </tr>\n",
       "    <tr>\n",
       "      <th>5106</th>\n",
       "      <td>5107</td>\n",
       "      <td>Pistoia</td>\n",
       "      <td>Toscana</td>\n",
       "      <td>P00032</td>\n",
       "    </tr>\n",
       "    <tr>\n",
       "      <th>6144</th>\n",
       "      <td>6145</td>\n",
       "      <td>Bari</td>\n",
       "      <td>Puglia</td>\n",
       "      <td>P00032</td>\n",
       "    </tr>\n",
       "  </tbody>\n",
       "</table>\n",
       "</div>"
      ],
      "text/plain": [
       "      ID_ORGANIZATIONAL_POSITION    PROVINE    REGION ID_PERSONAS\n",
       "4592                        4593    Pistoia   Toscana      P00032\n",
       "4595                        4596    Viterbo     Lazio      P00032\n",
       "4606                        4607  Catanzaro  Calabria      P00032\n",
       "5050                        5051    Perugia    Umbria      P00032\n",
       "5106                        5107    Pistoia   Toscana      P00032\n",
       "6144                        6145       Bari    Puglia      P00032"
      ]
     },
     "execution_count": 30,
     "metadata": {},
     "output_type": "execute_result"
    }
   ],
   "source": [
    "\n",
    "df_Organization[df_Organization.ID_ORGANIZATIONAL_POSITION.isin(org_pos)]"
   ]
  },
  {
   "cell_type": "markdown",
   "metadata": {},
   "source": [
    "### Knowledge Domain Data\n",
    "There are 130 knowledge domains and 43 knowledge areas. There are two knowledge domains without knowledge areas."
   ]
  },
  {
   "cell_type": "code",
   "execution_count": 10,
   "metadata": {},
   "outputs": [
    {
     "data": {
      "text/html": [
       "<div>\n",
       "<style scoped>\n",
       "    .dataframe tbody tr th:only-of-type {\n",
       "        vertical-align: middle;\n",
       "    }\n",
       "\n",
       "    .dataframe tbody tr th {\n",
       "        vertical-align: top;\n",
       "    }\n",
       "\n",
       "    .dataframe thead th {\n",
       "        text-align: right;\n",
       "    }\n",
       "</style>\n",
       "<table border=\"1\" class=\"dataframe\">\n",
       "  <thead>\n",
       "    <tr style=\"text-align: right;\">\n",
       "      <th></th>\n",
       "      <th>ID_KNOWLEDGE_DOMAIN</th>\n",
       "      <th>DESCR_KNOWLEDGE_DOMAIN</th>\n",
       "      <th>ID_KNOWLEDGE_AREA</th>\n",
       "      <th>DESCR_KNOWLEDGE_AREA</th>\n",
       "    </tr>\n",
       "  </thead>\n",
       "  <tbody>\n",
       "    <tr>\n",
       "      <th>0</th>\n",
       "      <td>C22D02</td>\n",
       "      <td>Data Analysis</td>\n",
       "      <td>AREAC022</td>\n",
       "      <td>Data governance</td>\n",
       "    </tr>\n",
       "    <tr>\n",
       "      <th>1</th>\n",
       "      <td>C03D01</td>\n",
       "      <td>Operativit√† di sportello</td>\n",
       "      <td>AREAC003</td>\n",
       "      <td>Conoscenza di Prodotti e Servizi bancari</td>\n",
       "    </tr>\n",
       "    <tr>\n",
       "      <th>2</th>\n",
       "      <td>C11D02</td>\n",
       "      <td>Monitoraggio del credito</td>\n",
       "      <td>AREAC011</td>\n",
       "      <td>Analisi e Gestione del credito</td>\n",
       "    </tr>\n",
       "    <tr>\n",
       "      <th>3</th>\n",
       "      <td>C23D02</td>\n",
       "      <td>Matematica finanziaria</td>\n",
       "      <td>AREAC023</td>\n",
       "      <td>Modelli quantitativi</td>\n",
       "    </tr>\n",
       "    <tr>\n",
       "      <th>4</th>\n",
       "      <td>C36D01</td>\n",
       "      <td>Innovation management</td>\n",
       "      <td>AREAC036</td>\n",
       "      <td>Digital</td>\n",
       "    </tr>\n",
       "  </tbody>\n",
       "</table>\n",
       "</div>"
      ],
      "text/plain": [
       "  ID_KNOWLEDGE_DOMAIN     DESCR_KNOWLEDGE_DOMAIN ID_KNOWLEDGE_AREA  \\\n",
       "0              C22D02              Data Analysis          AREAC022   \n",
       "1              C03D01  Operativit√† di sportello          AREAC003   \n",
       "2              C11D02   Monitoraggio del credito          AREAC011   \n",
       "3              C23D02     Matematica finanziaria          AREAC023   \n",
       "4              C36D01      Innovation management          AREAC036   \n",
       "\n",
       "                       DESCR_KNOWLEDGE_AREA  \n",
       "0                           Data governance  \n",
       "1  Conoscenza di Prodotti e Servizi bancari  \n",
       "2            Analisi e Gestione del credito  \n",
       "3                      Modelli quantitativi  \n",
       "4                                   Digital  "
      ]
     },
     "execution_count": 10,
     "metadata": {},
     "output_type": "execute_result"
    }
   ],
   "source": [
    "df_Domain.head()"
   ]
  },
  {
   "cell_type": "code",
   "execution_count": 16,
   "metadata": {},
   "outputs": [
    {
     "data": {
      "text/plain": [
       "130"
      ]
     },
     "execution_count": 16,
     "metadata": {},
     "output_type": "execute_result"
    }
   ],
   "source": [
    "len(df_Domain.ID_KNOWLEDGE_DOMAIN.unique())"
   ]
  },
  {
   "cell_type": "code",
   "execution_count": 17,
   "metadata": {},
   "outputs": [
    {
     "data": {
      "text/plain": [
       "43"
      ]
     },
     "execution_count": 17,
     "metadata": {},
     "output_type": "execute_result"
    }
   ],
   "source": [
    "len(df_Domain.ID_KNOWLEDGE_AREA.unique())"
   ]
  },
  {
   "cell_type": "markdown",
   "metadata": {},
   "source": [
    "### Knowledge Assessment Data\n",
    "A few employees (106) are not represented in the knowledge assessment data. "
   ]
  },
  {
   "cell_type": "code",
   "execution_count": 19,
   "metadata": {},
   "outputs": [
    {
     "data": {
      "text/html": [
       "<div>\n",
       "<style scoped>\n",
       "    .dataframe tbody tr th:only-of-type {\n",
       "        vertical-align: middle;\n",
       "    }\n",
       "\n",
       "    .dataframe tbody tr th {\n",
       "        vertical-align: top;\n",
       "    }\n",
       "\n",
       "    .dataframe thead th {\n",
       "        text-align: right;\n",
       "    }\n",
       "</style>\n",
       "<table border=\"1\" class=\"dataframe\">\n",
       "  <thead>\n",
       "    <tr style=\"text-align: right;\">\n",
       "      <th></th>\n",
       "      <th>ID_EMPLOYEE</th>\n",
       "      <th>ID_MANAGER</th>\n",
       "      <th>ID_KNOWLEDGE_DOMAIN</th>\n",
       "      <th>SCORE_AUTODETECTION</th>\n",
       "      <th>SCORE_VALIDATION</th>\n",
       "    </tr>\n",
       "  </thead>\n",
       "  <tbody>\n",
       "    <tr>\n",
       "      <th>0</th>\n",
       "      <td>63374</td>\n",
       "      <td>767</td>\n",
       "      <td>C05_1D01</td>\n",
       "      <td>1</td>\n",
       "      <td>NaN</td>\n",
       "    </tr>\n",
       "    <tr>\n",
       "      <th>1</th>\n",
       "      <td>39838</td>\n",
       "      <td>42166</td>\n",
       "      <td>C11D02</td>\n",
       "      <td>1</td>\n",
       "      <td>NaN</td>\n",
       "    </tr>\n",
       "    <tr>\n",
       "      <th>2</th>\n",
       "      <td>27198</td>\n",
       "      <td>8078</td>\n",
       "      <td>C15D03</td>\n",
       "      <td>1</td>\n",
       "      <td>1.0</td>\n",
       "    </tr>\n",
       "    <tr>\n",
       "      <th>3</th>\n",
       "      <td>28622</td>\n",
       "      <td>20863</td>\n",
       "      <td>C23D02</td>\n",
       "      <td>1</td>\n",
       "      <td>NaN</td>\n",
       "    </tr>\n",
       "    <tr>\n",
       "      <th>4</th>\n",
       "      <td>20494</td>\n",
       "      <td>25046</td>\n",
       "      <td>C28D04</td>\n",
       "      <td>1</td>\n",
       "      <td>NaN</td>\n",
       "    </tr>\n",
       "  </tbody>\n",
       "</table>\n",
       "</div>"
      ],
      "text/plain": [
       "   ID_EMPLOYEE  ID_MANAGER ID_KNOWLEDGE_DOMAIN  SCORE_AUTODETECTION  \\\n",
       "0        63374         767            C05_1D01                    1   \n",
       "1        39838       42166              C11D02                    1   \n",
       "2        27198        8078              C15D03                    1   \n",
       "3        28622       20863              C23D02                    1   \n",
       "4        20494       25046              C28D04                    1   \n",
       "\n",
       "   SCORE_VALIDATION  \n",
       "0               NaN  \n",
       "1               NaN  \n",
       "2               1.0  \n",
       "3               NaN  \n",
       "4               NaN  "
      ]
     },
     "execution_count": 19,
     "metadata": {},
     "output_type": "execute_result"
    }
   ],
   "source": [
    "df_Assessment.head()"
   ]
  },
  {
   "cell_type": "code",
   "execution_count": 15,
   "metadata": {},
   "outputs": [
    {
     "name": "stdout",
     "output_type": "stream",
     "text": [
      "64892\n",
      "64998\n"
     ]
    }
   ],
   "source": [
    "print(len(df_Assessment.ID_EMPLOYEE.unique()))\n",
    "print(len(df_Employees.ID_EMPLOYEE.unique()))"
   ]
  },
  {
   "cell_type": "code",
   "execution_count": 34,
   "metadata": {},
   "outputs": [
    {
     "data": {
      "text/plain": [
       "True     0.868949\n",
       "False    0.131051\n",
       "dtype: float64"
      ]
     },
     "execution_count": 34,
     "metadata": {},
     "output_type": "execute_result"
    }
   ],
   "source": [
    "df = df_Assessment[df_Assessment['SCORE_VALIDATION'].notna()]\n",
    "\n",
    "(df['SCORE_AUTODETECTION'] == df['SCORE_VALIDATION']).value_counts(normalize = True)"
   ]
  },
  {
   "cell_type": "markdown",
   "metadata": {},
   "source": [
    "There were 52310 instances where employees did not rank them selves the same as their manager in a particular skill. 54% ranked themselves higher and 46% ranked themselves lower."
   ]
  },
  {
   "cell_type": "code",
   "execution_count": 27,
   "metadata": {},
   "outputs": [
    {
     "data": {
      "text/plain": [
       "True     0.538176\n",
       "False    0.461824\n",
       "Name: self_gt_valid, dtype: float64"
      ]
     },
     "execution_count": 27,
     "metadata": {},
     "output_type": "execute_result"
    }
   ],
   "source": [
    "not_eq = df[df['self_eq_valid'] == False]\n",
    "not_eq['self_gt_valid'].value_counts(normalize = True)"
   ]
  },
  {
   "cell_type": "markdown",
   "metadata": {},
   "source": [
    "In 73% of cases where the self-assessment did not match the managerial assessment the assessment value only differed by 1. This indicates that for the given sample, people were generally very accurate in their self-assessment."
   ]
  },
  {
   "cell_type": "code",
   "execution_count": 33,
   "metadata": {},
   "outputs": [
    {
     "data": {
      "text/plain": [
       " 1.0    0.382489\n",
       "-1.0    0.355611\n",
       " 2.0    0.101032\n",
       "-2.0    0.082413\n",
       " 3.0    0.039266\n",
       "-3.0    0.020264\n",
       " 4.0    0.015389\n",
       "-4.0    0.003537\n",
       "dtype: float64"
      ]
     },
     "execution_count": 33,
     "metadata": {},
     "output_type": "execute_result"
    }
   ],
   "source": [
    "(not_eq['SCORE_AUTODETECTION'] - not_eq['SCORE_VALIDATION']).value_counts(normalize = True, sort = True)"
   ]
  },
  {
   "cell_type": "markdown",
   "metadata": {},
   "source": [
    "## Create Network Data"
   ]
  },
  {
   "cell_type": "markdown",
   "metadata": {},
   "source": [
    "The following block of code is transforming the variables listed in the uog_id array from wide to long, binding the two dataframes together and taking the unique value of the resulting 'value' column. The unique values from the value column are used to subset df_OP_filter in the following step."
   ]
  },
  {
   "cell_type": "code",
   "execution_count": 84,
   "metadata": {},
   "outputs": [],
   "source": [
    "uog_id = [\"UOG1_F\",\"UOG2_F\",\"UOG3_F\",\"UOG4_F\",\"UOG5_F\",\"UOG6_F\"]\n",
    "\n",
    "df_C = df_C_raw[uog_id]\n",
    "df_C = pd.melt(df_C, value_vars=uog_id)\n",
    "\n",
    "df_P = df_P_raw[uog_id]\n",
    "df_P = pd.melt(df_P, value_vars=uog_id)\n",
    "\n",
    "org_id = pd.concat([df_P, df_C])[\"value\"].unique().tolist()"
   ]
  },
  {
   "cell_type": "markdown",
   "metadata": {},
   "source": [
    "### Filter ORG Position"
   ]
  },
  {
   "cell_type": "code",
   "execution_count": 85,
   "metadata": {},
   "outputs": [
    {
     "data": {
      "text/html": [
       "<div>\n",
       "<style scoped>\n",
       "    .dataframe tbody tr th:only-of-type {\n",
       "        vertical-align: middle;\n",
       "    }\n",
       "\n",
       "    .dataframe tbody tr th {\n",
       "        vertical-align: top;\n",
       "    }\n",
       "\n",
       "    .dataframe thead th {\n",
       "        text-align: right;\n",
       "    }\n",
       "</style>\n",
       "<table border=\"1\" class=\"dataframe\">\n",
       "  <thead>\n",
       "    <tr style=\"text-align: right;\">\n",
       "      <th></th>\n",
       "      <th>ID_POSIZIONE_ORGANIZZATIVA</th>\n",
       "      <th>UOG</th>\n",
       "      <th>PROVINCIA</th>\n",
       "      <th>REGIONE</th>\n",
       "      <th>PERSONAS_DS</th>\n",
       "      <th>PERSONAS_ID</th>\n",
       "    </tr>\n",
       "  </thead>\n",
       "  <tbody>\n",
       "    <tr>\n",
       "      <th>0</th>\n",
       "      <td>1</td>\n",
       "      <td>IP10510400</td>\n",
       "      <td>Imperia</td>\n",
       "      <td>Liguria</td>\n",
       "      <td>Sales &amp; Relationship Management - Private</td>\n",
       "      <td>P00029</td>\n",
       "    </tr>\n",
       "    <tr>\n",
       "      <th>1</th>\n",
       "      <td>2</td>\n",
       "      <td>IP10510700</td>\n",
       "      <td>Novara</td>\n",
       "      <td>Piemonte</td>\n",
       "      <td>Sales &amp; Relationship Management - Private</td>\n",
       "      <td>P00029</td>\n",
       "    </tr>\n",
       "    <tr>\n",
       "      <th>2</th>\n",
       "      <td>3</td>\n",
       "      <td>IP10512000</td>\n",
       "      <td>Biella</td>\n",
       "      <td>Piemonte</td>\n",
       "      <td>Sales &amp; Relationship Management - Private</td>\n",
       "      <td>P00029</td>\n",
       "    </tr>\n",
       "    <tr>\n",
       "      <th>3</th>\n",
       "      <td>4</td>\n",
       "      <td>IP10520100</td>\n",
       "      <td>Milano</td>\n",
       "      <td>Lombardia</td>\n",
       "      <td>Sales &amp; Relationship Management - Private</td>\n",
       "      <td>P00029</td>\n",
       "    </tr>\n",
       "    <tr>\n",
       "      <th>4</th>\n",
       "      <td>5</td>\n",
       "      <td>IP10520200</td>\n",
       "      <td>Milano</td>\n",
       "      <td>Lombardia</td>\n",
       "      <td>Sales &amp; Relationship Management - Private</td>\n",
       "      <td>P00029</td>\n",
       "    </tr>\n",
       "  </tbody>\n",
       "</table>\n",
       "</div>"
      ],
      "text/plain": [
       "   ID_POSIZIONE_ORGANIZZATIVA         UOG PROVINCIA    REGIONE  \\\n",
       "0                           1  IP10510400   Imperia    Liguria   \n",
       "1                           2  IP10510700    Novara   Piemonte   \n",
       "2                           3  IP10512000    Biella   Piemonte   \n",
       "3                           4  IP10520100    Milano  Lombardia   \n",
       "4                           5  IP10520200    Milano  Lombardia   \n",
       "\n",
       "                                 PERSONAS_DS PERSONAS_ID  \n",
       "0  Sales & Relationship Management - Private      P00029  \n",
       "1  Sales & Relationship Management - Private      P00029  \n",
       "2  Sales & Relationship Management - Private      P00029  \n",
       "3  Sales & Relationship Management - Private      P00029  \n",
       "4  Sales & Relationship Management - Private      P00029  "
      ]
     },
     "execution_count": 85,
     "metadata": {},
     "output_type": "execute_result"
    }
   ],
   "source": [
    "df_OP_filter = df_OP[df_OP[\"ID_POSIZIONE_ORGANIZZATIVA\"].isin(org_id)]"
   ]
  },
  {
   "cell_type": "markdown",
   "metadata": {},
   "source": [
    "### Filter Employee ID by Org ID"
   ]
  },
  {
   "cell_type": "markdown",
   "metadata": {},
   "source": [
    "### Org Positions"
   ]
  },
  {
   "cell_type": "markdown",
   "metadata": {},
   "source": [
    "1. Filter organization data to only include those that are in the org_id"
   ]
  },
  {
   "cell_type": "code",
   "execution_count": 92,
   "metadata": {},
   "outputs": [
    {
     "name": "stdout",
     "output_type": "stream",
     "text": [
      "(11555, 4)\n",
      "(1464, 4)\n"
     ]
    }
   ],
   "source": [
    "df_Organization = df_Organization.loc[df_Organization[\"ID_ORGANIZATIONAL_POSITION\"].isin(org_id)]"
   ]
  },
  {
   "cell_type": "markdown",
   "metadata": {},
   "source": [
    "2. Merge employees data with organization data. Organization data has one row for each employee so this will not increase the length of the data"
   ]
  },
  {
   "cell_type": "code",
   "execution_count": 93,
   "metadata": {},
   "outputs": [
    {
     "name": "stdout",
     "output_type": "stream",
     "text": [
      "(9929, 9)\n"
     ]
    },
    {
     "data": {
      "text/plain": [
       "9929"
      ]
     },
     "execution_count": 93,
     "metadata": {},
     "output_type": "execute_result"
    }
   ],
   "source": [
    "df_name = pd.merge(df_Employees, df_Organization, on = \"ID_ORGANIZATIONAL_POSITION\")"
   ]
  },
  {
   "cell_type": "code",
   "execution_count": 98,
   "metadata": {},
   "outputs": [],
   "source": [
    "df_assess = pd.merge(df_Assessment, df_Domain, on = \"ID_KNOWLEDGE_DOMAIN\")"
   ]
  },
  {
   "cell_type": "code",
   "execution_count": 91,
   "metadata": {},
   "outputs": [
    {
     "data": {
      "text/plain": [
       "160735"
      ]
     },
     "execution_count": 91,
     "metadata": {},
     "output_type": "execute_result"
    }
   ],
   "source": [
    "# filter employee assessment by org ID\n",
    "df = pd.merge(df_name, df_assess, on = \"ID_EMPLOYEE\")\n",
    "df = df.loc[df[\"ID_ORGANIZATIONAL_POSITION\"].isin(org_id)]\n",
    "len(df)"
   ]
  },
  {
   "cell_type": "markdown",
   "metadata": {},
   "source": [
    "### Create Network File\n",
    "    1. create nodes"
   ]
  },
  {
   "cell_type": "code",
   "execution_count": 99,
   "metadata": {},
   "outputs": [],
   "source": [
    "df_nodes = pd.DataFrame(df[\"ID_EMPLOYEE\"].unique())\n",
    "df_nodes = df_nodes.rename(columns={0:\"Node\"})\n",
    "df_nodes_domain = pd.DataFrame(df[\"DESCR_KNOWLEDGE_AREA\"].unique())\n",
    "df_nodes_domain = df_nodes_domain.rename(columns={0:\"Node\"})\n",
    "df_nodes_domain = df_nodes_domain.dropna()\n",
    "df_nodes = df_nodes.append(df_nodes_domain)"
   ]
  },
  {
   "cell_type": "code",
   "execution_count": 100,
   "metadata": {},
   "outputs": [],
   "source": [
    "nodes = [n for n in df_nodes[\"Node\"].to_numpy()][0:]"
   ]
  },
  {
   "cell_type": "code",
   "execution_count": 101,
   "metadata": {},
   "outputs": [
    {
     "data": {
      "text/plain": [
       "9963"
      ]
     },
     "execution_count": 101,
     "metadata": {},
     "output_type": "execute_result"
    }
   ],
   "source": [
    "len(nodes)"
   ]
  },
  {
   "cell_type": "markdown",
   "metadata": {},
   "source": [
    "    2. create edges"
   ]
  },
  {
   "cell_type": "code",
   "execution_count": 102,
   "metadata": {},
   "outputs": [],
   "source": [
    "df_edges = df.groupby([\"ID_EMPLOYEE\",\"DESCR_KNOWLEDGE_AREA\"]).mean()"
   ]
  },
  {
   "cell_type": "code",
   "execution_count": 103,
   "metadata": {},
   "outputs": [],
   "source": [
    "df_edges = df_edges.reset_index([\"ID_EMPLOYEE\",\"DESCR_KNOWLEDGE_AREA\"])\n",
    "df_edges[\"SCORE_AVG\"] = df_edges[[\"SCORE_AUTODETECTION\",\"SCORE_VALIDATION\"]].mean(axis=1)\n",
    "df_edges = df_edges[[\"ID_EMPLOYEE\",\"DESCR_KNOWLEDGE_AREA\",\"SCORE_AVG\"]]"
   ]
  },
  {
   "cell_type": "code",
   "execution_count": 104,
   "metadata": {},
   "outputs": [],
   "source": [
    "weighted_edges = [tuple(n) for n in df_edges.to_numpy()]"
   ]
  },
  {
   "cell_type": "code",
   "execution_count": 105,
   "metadata": {},
   "outputs": [
    {
     "data": {
      "text/plain": [
       "129464"
      ]
     },
     "execution_count": 105,
     "metadata": {},
     "output_type": "execute_result"
    }
   ],
   "source": [
    "len(df_edges)"
   ]
  },
  {
   "cell_type": "markdown",
   "metadata": {},
   "source": [
    "    3. create graph"
   ]
  },
  {
   "cell_type": "code",
   "execution_count": 107,
   "metadata": {},
   "outputs": [],
   "source": [
    "H = nx.Graph()\n",
    "H.add_nodes_from(nodes)\n",
    "H.add_weighted_edges_from(weighted_edges)"
   ]
  },
  {
   "cell_type": "code",
   "execution_count": 108,
   "metadata": {},
   "outputs": [
    {
     "name": "stdout",
     "output_type": "stream",
     "text": [
      "Graph with 9963 nodes and 129464 edges\n"
     ]
    }
   ],
   "source": [
    "print(nx.info(H))"
   ]
  },
  {
   "cell_type": "markdown",
   "metadata": {},
   "source": [
    "    4. add attributes to nodes"
   ]
  },
  {
   "cell_type": "code",
   "execution_count": 110,
   "metadata": {},
   "outputs": [],
   "source": [
    "nodes_attr = df.loc[0:,\"ID_EMPLOYEE\":\"ID_PERSONAS\"].drop_duplicates()\n",
    "\n",
    "# add age group\n",
    "bins = [18, 29, 39, 49, 59, 69, 120]\n",
    "labels = ['18-29', '30-39', '40-49', '50-59', '60-69', '70+']\n",
    "nodes_attr['AGE GROUPS'] = pd.cut(nodes_attr.AGE, bins, labels = labels, include_lowest = False)\n",
    "\n",
    "# group attributes with node ID\n",
    "age_dict = dict(zip(nodes_attr[\"ID_EMPLOYEE\"], nodes_attr[\"AGE GROUPS\"]))\n",
    "sex_dict = dict(zip(nodes_attr[\"ID_EMPLOYEE\"], nodes_attr[\"SEX\"]))\n",
    "position_dict = dict(zip(nodes_attr[\"ID_EMPLOYEE\"], nodes_attr[\"ID_ORGANIZATIONAL_POSITION\"]))\n",
    "provine_dict = dict(zip(nodes_attr[\"ID_EMPLOYEE\"], nodes_attr[\"PROVINE\"]))\n",
    "region_dict = dict(zip(nodes_attr[\"ID_EMPLOYEE\"], nodes_attr[\"REGION\"]))\n",
    "persona_dict = dict(zip(nodes_attr[\"ID_EMPLOYEE\"], nodes_attr[\"ID_PERSONAS\"]))"
   ]
  },
  {
   "cell_type": "code",
   "execution_count": 111,
   "metadata": {},
   "outputs": [],
   "source": [
    "# add attributes to nodes\n",
    "# nx.set_node_attributes(H, level_dict, \"level\")\n",
    "nx.set_node_attributes(H, age_dict, 'age_groups')\n",
    "nx.set_node_attributes(H, sex_dict, 'sex')\n",
    "nx.set_node_attributes(H, provine_dict, 'provine')\n",
    "nx.set_node_attributes(H, region_dict, 'region')\n",
    "nx.set_node_attributes(H, persona_dict, 'persona')\n",
    "nx.set_node_attributes(H, position_dict, 'position')"
   ]
  },
  {
   "cell_type": "code",
   "execution_count": 112,
   "metadata": {},
   "outputs": [],
   "source": [
    "# add degrees\n",
    "degree_dict = dict(H.degree(H.nodes()))\n",
    "nx.set_node_attributes(H, degree_dict, 'degree')"
   ]
  },
  {
   "cell_type": "markdown",
   "metadata": {},
   "source": [
    "    5. add attributes to edges"
   ]
  },
  {
   "cell_type": "code",
   "execution_count": 113,
   "metadata": {},
   "outputs": [],
   "source": [
    "edges_attr = df.groupby([\"ID_EMPLOYEE\",\"DESCR_KNOWLEDGE_AREA\"]).mean()\n",
    "edges_attr = edges_attr.reset_index([\"ID_EMPLOYEE\",\"DESCR_KNOWLEDGE_AREA\"])\n",
    "edges_attr = edges_attr[[\"ID_EMPLOYEE\",\"DESCR_KNOWLEDGE_AREA\",\"SCORE_AUTODETECTION\",\"SCORE_VALIDATION\"]]\n",
    "edges_attr = edges_attr.fillna(0)"
   ]
  },
  {
   "cell_type": "code",
   "execution_count": 114,
   "metadata": {},
   "outputs": [],
   "source": [
    "self_score = {}\n",
    "valid_score = {}\n",
    "\n",
    "for n in edges_attr[[\"ID_EMPLOYEE\",\"DESCR_KNOWLEDGE_AREA\",\"SCORE_AUTODETECTION\"]].to_numpy():\n",
    "    a = tuple(n[0:2])\n",
    "    self_score[a] = {\"self_score\":n[2]}\n",
    "\n",
    "for n in edges_attr[[\"ID_EMPLOYEE\",\"DESCR_KNOWLEDGE_AREA\",\"SCORE_VALIDATION\"]].to_numpy():\n",
    "    a = tuple(n[0:2])\n",
    "    valid_score[a] = {\"valid_score\":n[2]}"
   ]
  },
  {
   "cell_type": "code",
   "execution_count": 115,
   "metadata": {},
   "outputs": [],
   "source": [
    "# add attributes to edges\n",
    "nx.set_edge_attributes(H, self_score)\n",
    "nx.set_edge_attributes(H, valid_score)"
   ]
  },
  {
   "cell_type": "code",
   "execution_count": null,
   "metadata": {},
   "outputs": [],
   "source": [
    "nx.write_graphml(H, \"proto_data.graphml\")"
   ]
  },
  {
   "cell_type": "markdown",
   "metadata": {},
   "source": [
    "## Create Tree Data"
   ]
  },
  {
   "cell_type": "code",
   "execution_count": 116,
   "metadata": {},
   "outputs": [],
   "source": [
    "df_tree = df_C.append(df_P)\n",
    "df_tree = df_tree.replace({\"-\":None})\n",
    "df_tree.to_csv(\"tree.csv\")"
   ]
  },
  {
   "cell_type": "code",
   "execution_count": 117,
   "metadata": {},
   "outputs": [
    {
     "data": {
      "text/html": [
       "<div>\n",
       "<style scoped>\n",
       "    .dataframe tbody tr th:only-of-type {\n",
       "        vertical-align: middle;\n",
       "    }\n",
       "\n",
       "    .dataframe tbody tr th {\n",
       "        vertical-align: top;\n",
       "    }\n",
       "\n",
       "    .dataframe thead th {\n",
       "        text-align: right;\n",
       "    }\n",
       "</style>\n",
       "<table border=\"1\" class=\"dataframe\">\n",
       "  <thead>\n",
       "    <tr style=\"text-align: right;\">\n",
       "      <th></th>\n",
       "      <th>UOG Eff. (Codice HR)</th>\n",
       "      <th>Società Eff.</th>\n",
       "      <th>UOG Eff. LE 01</th>\n",
       "      <th>UOG1_F</th>\n",
       "      <th>UOG Eff. LE 01 (DesM)</th>\n",
       "      <th>UOG Eff. LE 02</th>\n",
       "      <th>UOG2_F</th>\n",
       "      <th>UOG Eff. LE 02 (DesM)</th>\n",
       "      <th>UOG Eff. LE 03</th>\n",
       "      <th>UOG3_F</th>\n",
       "      <th>UOG Eff. LE 03 (DesM)</th>\n",
       "      <th>UOG Eff. LE 04</th>\n",
       "      <th>UOG4_F</th>\n",
       "      <th>UOG Eff. LE 04 (DesM)</th>\n",
       "      <th>UOG Eff. LE 05</th>\n",
       "      <th>UOG5_F</th>\n",
       "      <th>UOG Eff. LE 05 (DesM)</th>\n",
       "      <th>UOG Eff. LE 06</th>\n",
       "      <th>UOG6_F</th>\n",
       "      <th>UOG Eff. LE 06 (DesM)</th>\n",
       "    </tr>\n",
       "  </thead>\n",
       "  <tbody>\n",
       "    <tr>\n",
       "      <th>0</th>\n",
       "      <td>BG71220Z13</td>\n",
       "      <td>2000-INTESA SANPAOLO S.P.A.</td>\n",
       "      <td>BG17827000</td>\n",
       "      <td>5827</td>\n",
       "      <td>AREA GOV CIDIO</td>\n",
       "      <td>BG71220000</td>\n",
       "      <td>8253</td>\n",
       "      <td>CIDIO DIR CEN OPERAT</td>\n",
       "      <td>BG71220002</td>\n",
       "      <td>8237</td>\n",
       "      <td>DC OP OPERAT FINANZA</td>\n",
       "      <td>BG71220013</td>\n",
       "      <td>8275</td>\n",
       "      <td>DC OP DOCUMENTATION</td>\n",
       "      <td>BG71220Z13</td>\n",
       "      <td>8338</td>\n",
       "      <td>DC OP DOCUMENTATION</td>\n",
       "      <td>senza attrib.</td>\n",
       "      <td>-</td>\n",
       "      <td>2019/5/Senza attribuz.</td>\n",
       "    </tr>\n",
       "    <tr>\n",
       "      <th>1</th>\n",
       "      <td>BG71220013</td>\n",
       "      <td>2000-INTESA SANPAOLO S.P.A.</td>\n",
       "      <td>BG17827000</td>\n",
       "      <td>5827</td>\n",
       "      <td>AREA GOV CIDIO</td>\n",
       "      <td>BG71220000</td>\n",
       "      <td>8253</td>\n",
       "      <td>CIDIO DIR CEN OPERAT</td>\n",
       "      <td>BG71220002</td>\n",
       "      <td>8237</td>\n",
       "      <td>DC OP OPERAT FINANZA</td>\n",
       "      <td>BG71220013</td>\n",
       "      <td>8275</td>\n",
       "      <td>DC OP DOCUMENTATION</td>\n",
       "      <td>senza attrib.</td>\n",
       "      <td>-</td>\n",
       "      <td>2019/5/Senza attribuz.</td>\n",
       "      <td>senza attrib.</td>\n",
       "      <td>-</td>\n",
       "      <td>2019/5/Senza attribuz.</td>\n",
       "    </tr>\n",
       "    <tr>\n",
       "      <th>2</th>\n",
       "      <td>BG71220U41</td>\n",
       "      <td>2000-INTESA SANPAOLO S.P.A.</td>\n",
       "      <td>BG17827000</td>\n",
       "      <td>5827</td>\n",
       "      <td>AREA GOV CIDIO</td>\n",
       "      <td>BG71220000</td>\n",
       "      <td>8253</td>\n",
       "      <td>CIDIO DIR CEN OPERAT</td>\n",
       "      <td>BG71220008</td>\n",
       "      <td>8256</td>\n",
       "      <td>DC OP TRANSAZIONALE</td>\n",
       "      <td>BG71220041</td>\n",
       "      <td>8290</td>\n",
       "      <td>DC OP TESORERIA ENTI</td>\n",
       "      <td>BG71220U41</td>\n",
       "      <td>8414</td>\n",
       "      <td>DC OP TESORERIA ENTI</td>\n",
       "      <td>senza attrib.</td>\n",
       "      <td>-</td>\n",
       "      <td>2019/5/Senza attribuz.</td>\n",
       "    </tr>\n",
       "    <tr>\n",
       "      <th>3</th>\n",
       "      <td>BG19562V11</td>\n",
       "      <td>2000-INTESA SANPAOLO S.P.A.</td>\n",
       "      <td>BIG6917000</td>\n",
       "      <td>860</td>\n",
       "      <td>AREA GOV COO</td>\n",
       "      <td>BG19562000</td>\n",
       "      <td>6230</td>\n",
       "      <td>DC DIR POL SVI LE AC</td>\n",
       "      <td>BG19562006</td>\n",
       "      <td>8091</td>\n",
       "      <td>DC SL PHYG LEAR DES</td>\n",
       "      <td>BG19562011</td>\n",
       "      <td>8093</td>\n",
       "      <td>DC SL LIVE LEARNING</td>\n",
       "      <td>BG19562V11</td>\n",
       "      <td>9736</td>\n",
       "      <td>DC SL LIVE LEARNING</td>\n",
       "      <td>senza attrib.</td>\n",
       "      <td>-</td>\n",
       "      <td>2019/5/Senza attribuz.</td>\n",
       "    </tr>\n",
       "    <tr>\n",
       "      <th>4</th>\n",
       "      <td>BG71000022</td>\n",
       "      <td>2000-INTESA SANPAOLO S.P.A.</td>\n",
       "      <td>BIG6917000</td>\n",
       "      <td>860</td>\n",
       "      <td>AREA GOV COO</td>\n",
       "      <td>BG71000000</td>\n",
       "      <td>8034</td>\n",
       "      <td>COO DIR CEN ORGANIZ</td>\n",
       "      <td>BG71000006</td>\n",
       "      <td>8053</td>\n",
       "      <td>DC OR PEOPL PROC CAR</td>\n",
       "      <td>BG71000022</td>\n",
       "      <td>8058</td>\n",
       "      <td>DC OR SERVIZI GENER</td>\n",
       "      <td>senza attrib.</td>\n",
       "      <td>-</td>\n",
       "      <td>2019/5/Senza attribuz.</td>\n",
       "      <td>senza attrib.</td>\n",
       "      <td>-</td>\n",
       "      <td>2019/5/Senza attribuz.</td>\n",
       "    </tr>\n",
       "  </tbody>\n",
       "</table>\n",
       "</div>"
      ],
      "text/plain": [
       "  UOG Eff. (Codice HR)                 Società Eff. UOG Eff. LE 01  UOG1_F  \\\n",
       "0           BG71220Z13  2000-INTESA SANPAOLO S.P.A.     BG17827000    5827   \n",
       "1           BG71220013  2000-INTESA SANPAOLO S.P.A.     BG17827000    5827   \n",
       "2           BG71220U41  2000-INTESA SANPAOLO S.P.A.     BG17827000    5827   \n",
       "3           BG19562V11  2000-INTESA SANPAOLO S.P.A.     BIG6917000     860   \n",
       "4           BG71000022  2000-INTESA SANPAOLO S.P.A.     BIG6917000     860   \n",
       "\n",
       "  UOG Eff. LE 01 (DesM) UOG Eff. LE 02 UOG2_F UOG Eff. LE 02 (DesM)  \\\n",
       "0        AREA GOV CIDIO     BG71220000   8253  CIDIO DIR CEN OPERAT   \n",
       "1        AREA GOV CIDIO     BG71220000   8253  CIDIO DIR CEN OPERAT   \n",
       "2        AREA GOV CIDIO     BG71220000   8253  CIDIO DIR CEN OPERAT   \n",
       "3          AREA GOV COO     BG19562000   6230  DC DIR POL SVI LE AC   \n",
       "4          AREA GOV COO     BG71000000   8034   COO DIR CEN ORGANIZ   \n",
       "\n",
       "  UOG Eff. LE 03 UOG3_F UOG Eff. LE 03 (DesM) UOG Eff. LE 04 UOG4_F  \\\n",
       "0     BG71220002   8237  DC OP OPERAT FINANZA     BG71220013   8275   \n",
       "1     BG71220002   8237  DC OP OPERAT FINANZA     BG71220013   8275   \n",
       "2     BG71220008   8256   DC OP TRANSAZIONALE     BG71220041   8290   \n",
       "3     BG19562006   8091   DC SL PHYG LEAR DES     BG19562011   8093   \n",
       "4     BG71000006   8053  DC OR PEOPL PROC CAR     BG71000022   8058   \n",
       "\n",
       "  UOG Eff. LE 04 (DesM) UOG Eff. LE 05 UOG5_F   UOG Eff. LE 05 (DesM)  \\\n",
       "0   DC OP DOCUMENTATION     BG71220Z13   8338     DC OP DOCUMENTATION   \n",
       "1   DC OP DOCUMENTATION  senza attrib.      -  2019/5/Senza attribuz.   \n",
       "2  DC OP TESORERIA ENTI     BG71220U41   8414    DC OP TESORERIA ENTI   \n",
       "3   DC SL LIVE LEARNING     BG19562V11   9736     DC SL LIVE LEARNING   \n",
       "4   DC OR SERVIZI GENER  senza attrib.      -  2019/5/Senza attribuz.   \n",
       "\n",
       "  UOG Eff. LE 06 UOG6_F   UOG Eff. LE 06 (DesM)  \n",
       "0  senza attrib.      -  2019/5/Senza attribuz.  \n",
       "1  senza attrib.      -  2019/5/Senza attribuz.  \n",
       "2  senza attrib.      -  2019/5/Senza attribuz.  \n",
       "3  senza attrib.      -  2019/5/Senza attribuz.  \n",
       "4  senza attrib.      -  2019/5/Senza attribuz.  "
      ]
     },
     "execution_count": 117,
     "metadata": {},
     "output_type": "execute_result"
    }
   ],
   "source": [
    "df_C_raw.head()"
   ]
  },
  {
   "cell_type": "code",
   "execution_count": 120,
   "metadata": {},
   "outputs": [],
   "source": [
    "# add tree values\n",
    "df_tree_value = dict(zip(df_C_raw[\"UOG1_F\"],df_C_raw[\"UOG Eff. LE 01 (DesM)\"]))\n",
    "df_tree_value_2 = dict(zip(df_C_raw[\"UOG2_F\"],df_C_raw[\"UOG Eff. LE 02 (DesM)\"]))\n",
    "df_tree_value_3 = dict(zip(df_C_raw[\"UOG3_F\"],df_C_raw[\"UOG Eff. LE 03 (DesM)\"]))\n",
    "df_tree_value_4 = dict(zip(df_C_raw[\"UOG4_F\"],df_C_raw[\"UOG Eff. LE 04 (DesM)\"]))\n",
    "df_tree_value_5 = dict(zip(df_C_raw[\"UOG5_F\"],df_C_raw[\"UOG Eff. LE 05 (DesM)\"]))\n",
    "df_tree_value_6 = dict(zip(df_C_raw[\"UOG6_F\"],df_C_raw[\"UOG Eff. LE 06 (DesM)\"]))\n",
    "\n",
    "df_tree_value.update(df_tree_value_2)\n",
    "df_tree_value.update(df_tree_value_3)\n",
    "df_tree_value.update(df_tree_value_4)\n",
    "df_tree_value.update(df_tree_value_5)\n",
    "df_tree_value.update(df_tree_value_6)\n",
    "\n",
    "df_tree_value_7 = dict(zip(df_P_raw[\"UOG1_F\"],df_P_raw[\"UOG Eff. LE 01 (DesM)\"]))\n",
    "df_tree_value_8 = dict(zip(df_P_raw[\"UOG2_F\"],df_P_raw[\"UOG Eff. LE 02 (DesM)\"]))\n",
    "df_tree_value_9 = dict(zip(df_P_raw[\"UOG3_F\"],df_P_raw[\"UOG Eff. LE 03 (DesM)\"]))\n",
    "df_tree_value_10 = dict(zip(df_P_raw[\"UOG4_F\"],df_P_raw[\"UOG Eff. LE 04 (DesM)\"]))\n",
    "df_tree_value_11 = dict(zip(df_P_raw[\"UOG5_F\"],df_P_raw[\"UOG Eff. LE 05 (DesM)\"]))\n",
    "df_tree_value_12 = dict(zip(df_P_raw[\"UOG6_F\"],df_P_raw[\"UOG Eff. LE 06 (DesM)\"]))\n",
    "\n",
    "df_tree_value.update(df_tree_value_7)\n",
    "df_tree_value.update(df_tree_value_8)\n",
    "df_tree_value.update(df_tree_value_9)\n",
    "df_tree_value.update(df_tree_value_10)\n",
    "df_tree_value.update(df_tree_value_11)\n",
    "df_tree_value.update(df_tree_value_12)"
   ]
  },
  {
   "cell_type": "code",
   "execution_count": 122,
   "metadata": {},
   "outputs": [],
   "source": [
    "def ctree():\n",
    "    \"\"\" One of the python gems. Making possible to have dynamic tree structure.\n",
    "\n",
    "    \"\"\"\n",
    "    return defaultdict(ctree)\n",
    "\n",
    "def build_leaf(name, leaf):\n",
    "    \"\"\" Recursive function to build desired custom tree structure\n",
    "    \"\"\"\n",
    "    res = {\"name\": name}\n",
    "    res[\"position_name\"] = df_tree_value.get(float(name))\n",
    "        \n",
    "    # add children node if the leaf actually has any children\n",
    "    if len(leaf.keys()) > 0:\n",
    "        a = []\n",
    "        for k, v in leaf.items():\n",
    "            if k != \"\":\n",
    "                a.append(build_leaf(k,v)) \n",
    "        res[\"children\"]= a\n",
    "    return res"
   ]
  },
  {
   "cell_type": "code",
   "execution_count": null,
   "metadata": {},
   "outputs": [],
   "source": [
    "\"\"\" The main thread composed from two parts.\n",
    "\n",
    "First it's parsing the csv file and builds a tree hierarchy from it.\n",
    "Second it's recursively iterating over the tree and building custom\n",
    "json-like structure (via dict).\n",
    "\n",
    "And the last part is just printing the result.\n",
    "\n",
    "\"\"\"\n",
    "tree = ctree()\n",
    "# NOTE: you need to have test.csv file as neighbor to this file\n",
    "with open('tree.csv') as csvfile:\n",
    "    reader = csv.reader(csvfile)\n",
    "    for rid, row in enumerate(reader):\n",
    "\n",
    "        # skipping first header row. remove this logic if your csv is\n",
    "        # headerless\n",
    "        if rid == 0:\n",
    "            continue\n",
    "\n",
    "        # usage of python magic to construct dynamic tree structure and\n",
    "        # basically grouping csv values under their parents\n",
    "        leaf = tree[row[0]]\n",
    "        for cid in range(1, len(row)):\n",
    "            leaf = leaf[row[cid]]\n",
    "\n",
    "# building a custom tree structure\n",
    "res = []\n",
    "for name, leaf in tree.items():\n",
    "#     print(name)\n",
    "    a = build_leaf(name, leaf)\n",
    "    res.append(a)"
   ]
  },
  {
   "cell_type": "code",
   "execution_count": null,
   "metadata": {},
   "outputs": [],
   "source": [
    "with open('tree.json', 'w') as outfile:\n",
    "    json.dump(res, outfile, sort_keys=True, indent=4)"
   ]
  }
 ],
 "metadata": {
  "kernelspec": {
   "display_name": "Python 3",
   "language": "python",
   "name": "python3"
  },
  "language_info": {
   "codemirror_mode": {
    "name": "ipython",
    "version": 3
   },
   "file_extension": ".py",
   "mimetype": "text/x-python",
   "name": "python",
   "nbconvert_exporter": "python",
   "pygments_lexer": "ipython3",
   "version": "3.10.0"
  }
 },
 "nbformat": 4,
 "nbformat_minor": 4
}
